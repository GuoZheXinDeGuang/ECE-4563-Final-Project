{
  "nbformat": 4,
  "nbformat_minor": 0,
  "metadata": {
    "colab": {
      "provenance": []
    },
    "kernelspec": {
      "name": "python3",
      "display_name": "Python 3"
    },
    "language_info": {
      "name": "python"
    }
  },
  "cells": [
    {
      "cell_type": "markdown",
      "source": [
        "\n",
        "# Weather Prediction With Machine Learning\n"
      ],
      "metadata": {
        "id": "ai5tkKdWie_O"
      }
    },
    {
      "cell_type": "markdown",
      "source": [
        "### Imports"
      ],
      "metadata": {
        "id": "IIG9uz70ifBN"
      }
    },
    {
      "cell_type": "code",
      "execution_count": null,
      "metadata": {
        "id": "1cnCttLliYqt"
      },
      "outputs": [],
      "source": [
        "import numpy as np\n",
        "import pandas as pd\n",
        "import matplotlib.pyplot as plt\n",
        "\n",
        "from sklearn.model_selection import train_test_split\n",
        "from sklearn.preprocessing import StandardScaler, OneHotEncoder\n",
        "from sklearn.ensemble import RandomForestClassifier\n",
        "from sklearn.metrics import accuracy_score\n",
        "\n",
        "import torch\n",
        "import torch.nn as nn\n",
        "import torch.optim as optim\n",
        "from torch.utils.data import DataLoader, TensorDataset"
      ]
    },
    {
      "cell_type": "markdown",
      "source": [
        "### Process Data"
      ],
      "metadata": {
        "id": "R4A_eHOCifDl"
      }
    },
    {
      "cell_type": "code",
      "source": [
        "original = pd.read_csv('seattle-weather.csv')\n",
        "original.head(5)"
      ],
      "metadata": {
        "id": "qMJj8RpAjMkA",
        "colab": {
          "base_uri": "https://localhost:8080/",
          "height": 206
        },
        "outputId": "5438e5df-0d44-4b33-d186-f4cead7af45e"
      },
      "execution_count": null,
      "outputs": [
        {
          "output_type": "execute_result",
          "data": {
            "text/plain": [
              "         date  precipitation  temp_max  temp_min  wind  weather\n",
              "0  2012-01-01            0.0      12.8       5.0   4.7  drizzle\n",
              "1  2012-01-02           10.9      10.6       2.8   4.5     rain\n",
              "2  2012-01-03            0.8      11.7       7.2   2.3     rain\n",
              "3  2012-01-04           20.3      12.2       5.6   4.7     rain\n",
              "4  2012-01-05            1.3       8.9       2.8   6.1     rain"
            ],
            "text/html": [
              "\n",
              "  <div id=\"df-57639ea1-d5f9-4422-afb7-21e1df0a6416\" class=\"colab-df-container\">\n",
              "    <div>\n",
              "<style scoped>\n",
              "    .dataframe tbody tr th:only-of-type {\n",
              "        vertical-align: middle;\n",
              "    }\n",
              "\n",
              "    .dataframe tbody tr th {\n",
              "        vertical-align: top;\n",
              "    }\n",
              "\n",
              "    .dataframe thead th {\n",
              "        text-align: right;\n",
              "    }\n",
              "</style>\n",
              "<table border=\"1\" class=\"dataframe\">\n",
              "  <thead>\n",
              "    <tr style=\"text-align: right;\">\n",
              "      <th></th>\n",
              "      <th>date</th>\n",
              "      <th>precipitation</th>\n",
              "      <th>temp_max</th>\n",
              "      <th>temp_min</th>\n",
              "      <th>wind</th>\n",
              "      <th>weather</th>\n",
              "    </tr>\n",
              "  </thead>\n",
              "  <tbody>\n",
              "    <tr>\n",
              "      <th>0</th>\n",
              "      <td>2012-01-01</td>\n",
              "      <td>0.0</td>\n",
              "      <td>12.8</td>\n",
              "      <td>5.0</td>\n",
              "      <td>4.7</td>\n",
              "      <td>drizzle</td>\n",
              "    </tr>\n",
              "    <tr>\n",
              "      <th>1</th>\n",
              "      <td>2012-01-02</td>\n",
              "      <td>10.9</td>\n",
              "      <td>10.6</td>\n",
              "      <td>2.8</td>\n",
              "      <td>4.5</td>\n",
              "      <td>rain</td>\n",
              "    </tr>\n",
              "    <tr>\n",
              "      <th>2</th>\n",
              "      <td>2012-01-03</td>\n",
              "      <td>0.8</td>\n",
              "      <td>11.7</td>\n",
              "      <td>7.2</td>\n",
              "      <td>2.3</td>\n",
              "      <td>rain</td>\n",
              "    </tr>\n",
              "    <tr>\n",
              "      <th>3</th>\n",
              "      <td>2012-01-04</td>\n",
              "      <td>20.3</td>\n",
              "      <td>12.2</td>\n",
              "      <td>5.6</td>\n",
              "      <td>4.7</td>\n",
              "      <td>rain</td>\n",
              "    </tr>\n",
              "    <tr>\n",
              "      <th>4</th>\n",
              "      <td>2012-01-05</td>\n",
              "      <td>1.3</td>\n",
              "      <td>8.9</td>\n",
              "      <td>2.8</td>\n",
              "      <td>6.1</td>\n",
              "      <td>rain</td>\n",
              "    </tr>\n",
              "  </tbody>\n",
              "</table>\n",
              "</div>\n",
              "    <div class=\"colab-df-buttons\">\n",
              "\n",
              "  <div class=\"colab-df-container\">\n",
              "    <button class=\"colab-df-convert\" onclick=\"convertToInteractive('df-57639ea1-d5f9-4422-afb7-21e1df0a6416')\"\n",
              "            title=\"Convert this dataframe to an interactive table.\"\n",
              "            style=\"display:none;\">\n",
              "\n",
              "  <svg xmlns=\"http://www.w3.org/2000/svg\" height=\"24px\" viewBox=\"0 -960 960 960\">\n",
              "    <path d=\"M120-120v-720h720v720H120Zm60-500h600v-160H180v160Zm220 220h160v-160H400v160Zm0 220h160v-160H400v160ZM180-400h160v-160H180v160Zm440 0h160v-160H620v160ZM180-180h160v-160H180v160Zm440 0h160v-160H620v160Z\"/>\n",
              "  </svg>\n",
              "    </button>\n",
              "\n",
              "  <style>\n",
              "    .colab-df-container {\n",
              "      display:flex;\n",
              "      gap: 12px;\n",
              "    }\n",
              "\n",
              "    .colab-df-convert {\n",
              "      background-color: #E8F0FE;\n",
              "      border: none;\n",
              "      border-radius: 50%;\n",
              "      cursor: pointer;\n",
              "      display: none;\n",
              "      fill: #1967D2;\n",
              "      height: 32px;\n",
              "      padding: 0 0 0 0;\n",
              "      width: 32px;\n",
              "    }\n",
              "\n",
              "    .colab-df-convert:hover {\n",
              "      background-color: #E2EBFA;\n",
              "      box-shadow: 0px 1px 2px rgba(60, 64, 67, 0.3), 0px 1px 3px 1px rgba(60, 64, 67, 0.15);\n",
              "      fill: #174EA6;\n",
              "    }\n",
              "\n",
              "    .colab-df-buttons div {\n",
              "      margin-bottom: 4px;\n",
              "    }\n",
              "\n",
              "    [theme=dark] .colab-df-convert {\n",
              "      background-color: #3B4455;\n",
              "      fill: #D2E3FC;\n",
              "    }\n",
              "\n",
              "    [theme=dark] .colab-df-convert:hover {\n",
              "      background-color: #434B5C;\n",
              "      box-shadow: 0px 1px 3px 1px rgba(0, 0, 0, 0.15);\n",
              "      filter: drop-shadow(0px 1px 2px rgba(0, 0, 0, 0.3));\n",
              "      fill: #FFFFFF;\n",
              "    }\n",
              "  </style>\n",
              "\n",
              "    <script>\n",
              "      const buttonEl =\n",
              "        document.querySelector('#df-57639ea1-d5f9-4422-afb7-21e1df0a6416 button.colab-df-convert');\n",
              "      buttonEl.style.display =\n",
              "        google.colab.kernel.accessAllowed ? 'block' : 'none';\n",
              "\n",
              "      async function convertToInteractive(key) {\n",
              "        const element = document.querySelector('#df-57639ea1-d5f9-4422-afb7-21e1df0a6416');\n",
              "        const dataTable =\n",
              "          await google.colab.kernel.invokeFunction('convertToInteractive',\n",
              "                                                    [key], {});\n",
              "        if (!dataTable) return;\n",
              "\n",
              "        const docLinkHtml = 'Like what you see? Visit the ' +\n",
              "          '<a target=\"_blank\" href=https://colab.research.google.com/notebooks/data_table.ipynb>data table notebook</a>'\n",
              "          + ' to learn more about interactive tables.';\n",
              "        element.innerHTML = '';\n",
              "        dataTable['output_type'] = 'display_data';\n",
              "        await google.colab.output.renderOutput(dataTable, element);\n",
              "        const docLink = document.createElement('div');\n",
              "        docLink.innerHTML = docLinkHtml;\n",
              "        element.appendChild(docLink);\n",
              "      }\n",
              "    </script>\n",
              "  </div>\n",
              "\n",
              "\n",
              "<div id=\"df-8d63c317-9d6c-45d2-be46-ced20358e6ad\">\n",
              "  <button class=\"colab-df-quickchart\" onclick=\"quickchart('df-8d63c317-9d6c-45d2-be46-ced20358e6ad')\"\n",
              "            title=\"Suggest charts\"\n",
              "            style=\"display:none;\">\n",
              "\n",
              "<svg xmlns=\"http://www.w3.org/2000/svg\" height=\"24px\"viewBox=\"0 0 24 24\"\n",
              "     width=\"24px\">\n",
              "    <g>\n",
              "        <path d=\"M19 3H5c-1.1 0-2 .9-2 2v14c0 1.1.9 2 2 2h14c1.1 0 2-.9 2-2V5c0-1.1-.9-2-2-2zM9 17H7v-7h2v7zm4 0h-2V7h2v10zm4 0h-2v-4h2v4z\"/>\n",
              "    </g>\n",
              "</svg>\n",
              "  </button>\n",
              "\n",
              "<style>\n",
              "  .colab-df-quickchart {\n",
              "      --bg-color: #E8F0FE;\n",
              "      --fill-color: #1967D2;\n",
              "      --hover-bg-color: #E2EBFA;\n",
              "      --hover-fill-color: #174EA6;\n",
              "      --disabled-fill-color: #AAA;\n",
              "      --disabled-bg-color: #DDD;\n",
              "  }\n",
              "\n",
              "  [theme=dark] .colab-df-quickchart {\n",
              "      --bg-color: #3B4455;\n",
              "      --fill-color: #D2E3FC;\n",
              "      --hover-bg-color: #434B5C;\n",
              "      --hover-fill-color: #FFFFFF;\n",
              "      --disabled-bg-color: #3B4455;\n",
              "      --disabled-fill-color: #666;\n",
              "  }\n",
              "\n",
              "  .colab-df-quickchart {\n",
              "    background-color: var(--bg-color);\n",
              "    border: none;\n",
              "    border-radius: 50%;\n",
              "    cursor: pointer;\n",
              "    display: none;\n",
              "    fill: var(--fill-color);\n",
              "    height: 32px;\n",
              "    padding: 0;\n",
              "    width: 32px;\n",
              "  }\n",
              "\n",
              "  .colab-df-quickchart:hover {\n",
              "    background-color: var(--hover-bg-color);\n",
              "    box-shadow: 0 1px 2px rgba(60, 64, 67, 0.3), 0 1px 3px 1px rgba(60, 64, 67, 0.15);\n",
              "    fill: var(--button-hover-fill-color);\n",
              "  }\n",
              "\n",
              "  .colab-df-quickchart-complete:disabled,\n",
              "  .colab-df-quickchart-complete:disabled:hover {\n",
              "    background-color: var(--disabled-bg-color);\n",
              "    fill: var(--disabled-fill-color);\n",
              "    box-shadow: none;\n",
              "  }\n",
              "\n",
              "  .colab-df-spinner {\n",
              "    border: 2px solid var(--fill-color);\n",
              "    border-color: transparent;\n",
              "    border-bottom-color: var(--fill-color);\n",
              "    animation:\n",
              "      spin 1s steps(1) infinite;\n",
              "  }\n",
              "\n",
              "  @keyframes spin {\n",
              "    0% {\n",
              "      border-color: transparent;\n",
              "      border-bottom-color: var(--fill-color);\n",
              "      border-left-color: var(--fill-color);\n",
              "    }\n",
              "    20% {\n",
              "      border-color: transparent;\n",
              "      border-left-color: var(--fill-color);\n",
              "      border-top-color: var(--fill-color);\n",
              "    }\n",
              "    30% {\n",
              "      border-color: transparent;\n",
              "      border-left-color: var(--fill-color);\n",
              "      border-top-color: var(--fill-color);\n",
              "      border-right-color: var(--fill-color);\n",
              "    }\n",
              "    40% {\n",
              "      border-color: transparent;\n",
              "      border-right-color: var(--fill-color);\n",
              "      border-top-color: var(--fill-color);\n",
              "    }\n",
              "    60% {\n",
              "      border-color: transparent;\n",
              "      border-right-color: var(--fill-color);\n",
              "    }\n",
              "    80% {\n",
              "      border-color: transparent;\n",
              "      border-right-color: var(--fill-color);\n",
              "      border-bottom-color: var(--fill-color);\n",
              "    }\n",
              "    90% {\n",
              "      border-color: transparent;\n",
              "      border-bottom-color: var(--fill-color);\n",
              "    }\n",
              "  }\n",
              "</style>\n",
              "\n",
              "  <script>\n",
              "    async function quickchart(key) {\n",
              "      const quickchartButtonEl =\n",
              "        document.querySelector('#' + key + ' button');\n",
              "      quickchartButtonEl.disabled = true;  // To prevent multiple clicks.\n",
              "      quickchartButtonEl.classList.add('colab-df-spinner');\n",
              "      try {\n",
              "        const charts = await google.colab.kernel.invokeFunction(\n",
              "            'suggestCharts', [key], {});\n",
              "      } catch (error) {\n",
              "        console.error('Error during call to suggestCharts:', error);\n",
              "      }\n",
              "      quickchartButtonEl.classList.remove('colab-df-spinner');\n",
              "      quickchartButtonEl.classList.add('colab-df-quickchart-complete');\n",
              "    }\n",
              "    (() => {\n",
              "      let quickchartButtonEl =\n",
              "        document.querySelector('#df-8d63c317-9d6c-45d2-be46-ced20358e6ad button');\n",
              "      quickchartButtonEl.style.display =\n",
              "        google.colab.kernel.accessAllowed ? 'block' : 'none';\n",
              "    })();\n",
              "  </script>\n",
              "</div>\n",
              "\n",
              "    </div>\n",
              "  </div>\n"
            ],
            "application/vnd.google.colaboratory.intrinsic+json": {
              "type": "dataframe",
              "variable_name": "original",
              "summary": "{\n  \"name\": \"original\",\n  \"rows\": 1461,\n  \"fields\": [\n    {\n      \"column\": \"date\",\n      \"properties\": {\n        \"dtype\": \"object\",\n        \"num_unique_values\": 1461,\n        \"samples\": [\n          \"2014-06-11\",\n          \"2015-01-10\",\n          \"2013-02-17\"\n        ],\n        \"semantic_type\": \"\",\n        \"description\": \"\"\n      }\n    },\n    {\n      \"column\": \"precipitation\",\n      \"properties\": {\n        \"dtype\": \"number\",\n        \"std\": 6.680194322314731,\n        \"min\": 0.0,\n        \"max\": 55.9,\n        \"num_unique_values\": 111,\n        \"samples\": [\n          43.4,\n          8.1,\n          1.3\n        ],\n        \"semantic_type\": \"\",\n        \"description\": \"\"\n      }\n    },\n    {\n      \"column\": \"temp_max\",\n      \"properties\": {\n        \"dtype\": \"number\",\n        \"std\": 7.349758097360185,\n        \"min\": -1.6,\n        \"max\": 35.6,\n        \"num_unique_values\": 67,\n        \"samples\": [\n          25.6,\n          8.3,\n          8.9\n        ],\n        \"semantic_type\": \"\",\n        \"description\": \"\"\n      }\n    },\n    {\n      \"column\": \"temp_min\",\n      \"properties\": {\n        \"dtype\": \"number\",\n        \"std\": 5.023004179961267,\n        \"min\": -7.1,\n        \"max\": 18.3,\n        \"num_unique_values\": 55,\n        \"samples\": [\n          13.3,\n          0.6,\n          14.4\n        ],\n        \"semantic_type\": \"\",\n        \"description\": \"\"\n      }\n    },\n    {\n      \"column\": \"wind\",\n      \"properties\": {\n        \"dtype\": \"number\",\n        \"std\": 1.4378250588746244,\n        \"min\": 0.4,\n        \"max\": 9.5,\n        \"num_unique_values\": 79,\n        \"samples\": [\n          8.1,\n          4.7,\n          2.6\n        ],\n        \"semantic_type\": \"\",\n        \"description\": \"\"\n      }\n    },\n    {\n      \"column\": \"weather\",\n      \"properties\": {\n        \"dtype\": \"category\",\n        \"num_unique_values\": 5,\n        \"samples\": [\n          \"rain\",\n          \"fog\",\n          \"sun\"\n        ],\n        \"semantic_type\": \"\",\n        \"description\": \"\"\n      }\n    }\n  ]\n}"
            }
          },
          "metadata": {},
          "execution_count": 3
        }
      ]
    },
    {
      "cell_type": "markdown",
      "source": [
        "### Process Data and One Hot Encoding"
      ],
      "metadata": {
        "id": "fAn8UtwleyG-"
      }
    },
    {
      "cell_type": "code",
      "source": [
        "data = original.drop('date', axis=1)\n",
        "\n",
        "# One-hot encode the 'weather' column\n",
        "weather_encoded = pd.get_dummies(data['weather'], prefix='weather')\n",
        "data = pd.concat([data, weather_encoded], axis=1)\n",
        "\n",
        "# Drop the original 'weather' column\n",
        "data = data.drop('weather', axis=1)\n",
        "print(data.head(5)) # this is how the dataset currently look like\n",
        "\n",
        "# Scale numerical features to hopefully get better average result\n",
        "scaler = StandardScaler()\n",
        "numerical_features = ['precipitation', 'temp_max', 'temp_min', 'wind']\n",
        "data[numerical_features] = scaler.fit_transform(data[numerical_features])"
      ],
      "metadata": {
        "colab": {
          "base_uri": "https://localhost:8080/"
        },
        "id": "pMGs0dOPeyR4",
        "outputId": "7400edd7-acc0-46fd-c315-f5723f188907"
      },
      "execution_count": null,
      "outputs": [
        {
          "output_type": "stream",
          "name": "stdout",
          "text": [
            "   precipitation  temp_max  temp_min  wind  weather_drizzle  weather_fog  \\\n",
            "0            0.0      12.8       5.0   4.7             True        False   \n",
            "1           10.9      10.6       2.8   4.5            False        False   \n",
            "2            0.8      11.7       7.2   2.3            False        False   \n",
            "3           20.3      12.2       5.6   4.7            False        False   \n",
            "4            1.3       8.9       2.8   6.1            False        False   \n",
            "\n",
            "   weather_rain  weather_snow  weather_sun  \n",
            "0         False         False        False  \n",
            "1          True         False        False  \n",
            "2          True         False        False  \n",
            "3          True         False        False  \n",
            "4          True         False        False  \n"
          ]
        }
      ]
    },
    {
      "cell_type": "markdown",
      "source": [
        "### Split Into Test and Train Dataloaders"
      ],
      "metadata": {
        "id": "s0cYJWdr5IaX"
      }
    },
    {
      "cell_type": "code",
      "source": [
        "# Split data\n",
        "X = data.drop(list(weather_encoded.columns), axis=1) #Exclude weather\n",
        "y = data[list(weather_encoded.columns)] #Predict all weather\n",
        "X_train, X_test, y_train, y_test = train_test_split(X, y, test_size=0.1, random_state=42)\n",
        "\n",
        "# Convert to tensors\n",
        "X_train = torch.tensor(X_train.values, dtype=torch.float32)\n",
        "y_train = torch.tensor(y_train.values, dtype=torch.float32)\n",
        "X_test = torch.tensor(X_test.values, dtype=torch.float32)\n",
        "y_test = torch.tensor(y_test.values, dtype=torch.float32)\n",
        "\n",
        "# Create train and test loaders\n",
        "batch_size = 20\n",
        "train_dataset = TensorDataset(X_train, y_train)\n",
        "train_loader = DataLoader(train_dataset, batch_size=batch_size, shuffle=True)\n",
        "test_dataset = TensorDataset(X_test, y_test)\n",
        "test_loader = DataLoader(test_dataset, batch_size=batch_size, shuffle=False)"
      ],
      "metadata": {
        "id": "5EZAkpHe5Ii7"
      },
      "execution_count": null,
      "outputs": []
    },
    {
      "cell_type": "markdown",
      "source": [],
      "metadata": {
        "id": "xcjJKIyx5evA"
      }
    },
    {
      "cell_type": "code",
      "source": [
        "class WeatherPredictor(nn.Module):\n",
        "  def __init__(self, input_size, hidden_size, output_size):\n",
        "    super(WeatherPredictor, self).__init__()\n",
        "    self.lstm = nn.LSTM(input_size, hidden_size, batch_first=True)\n",
        "    self.fc = nn.Linear(hidden_size, output_size)\n",
        "\n",
        "  def forward(self, x):\n",
        "    x = x.unsqueeze(1)  # Add batch dimension, previously the shape only had two dimensions (around 1400 data, 4 features)\n",
        "    out, _ = self.lstm(x)\n",
        "    out = self.fc(out[:, -1, :])\n",
        "    return out"
      ],
      "metadata": {
        "id": "x67N4iGs5e5w"
      },
      "execution_count": null,
      "outputs": []
    },
    {
      "cell_type": "markdown",
      "source": [
        "### Initialize Neural Network Model and Optimizer"
      ],
      "metadata": {
        "id": "YCYqMPyc53Pc"
      }
    },
    {
      "cell_type": "code",
      "source": [
        "input_size = X_train.shape[1]\n",
        "hidden_size = 25  # arbitrary, but 25 worked well than most, haven't tried which value is the best\n",
        "output_size = 5  # Number of weather categories\n",
        "model = WeatherPredictor(input_size, hidden_size, output_size)\n",
        "criterion = nn.BCEWithLogitsLoss()\n",
        "optimizer = optim.Adam(model.parameters(), lr=0.01, weight_decay=0.0001)\n",
        "# optimizer = optim.LBFGS(model.parameters(), lr=0.001)"
      ],
      "metadata": {
        "id": "LTviB6bD53Xt"
      },
      "execution_count": 61,
      "outputs": []
    },
    {
      "cell_type": "markdown",
      "source": [
        "### Training the Neural Network"
      ],
      "metadata": {
        "id": "1f31XnLt6aT6"
      }
    },
    {
      "cell_type": "code",
      "source": [
        "num_epochs = 80\n",
        "test_accuracy_history = []\n",
        "train_accuracy_history = []\n",
        "\n",
        "for epoch in range(num_epochs):\n",
        "    model.train()\n",
        "    correct = 0\n",
        "    total = 0\n",
        "    for i, (inputs, target) in enumerate(train_loader):\n",
        "        optimizer.zero_grad()\n",
        "        output = model(inputs)\n",
        "        loss = criterion(output, target)\n",
        "        loss.backward()\n",
        "        optimizer.step()\n",
        "\n",
        "        # Calculate training accuracy\n",
        "        _, predicted = torch.max(output.data, 1)\n",
        "        total += target.size(0)\n",
        "        correct += (predicted == torch.argmax(target, dim=1)).sum().item()\n",
        "\n",
        "    train_accuracy = 100 * correct / total\n",
        "    train_accuracy_history.append(train_accuracy)\n",
        "\n",
        "    # Evaluate on test set\n",
        "    model.eval()\n",
        "    correct = 0\n",
        "    total = 0\n",
        "    with torch.no_grad():\n",
        "        for inputs, target in test_loader:\n",
        "            output = model(inputs)\n",
        "            _, predicted = torch.max(output.data, 1)\n",
        "            total += target.size(0)\n",
        "            correct += (predicted == torch.argmax(target, dim=1)).sum().item()\n",
        "\n",
        "    test_accuracy = 100 * correct / total\n",
        "    test_accuracy_history.append(test_accuracy)\n",
        "\n",
        "    print(f'Epoch {epoch+1}/{num_epochs}, Train Accuracy: {train_accuracy:.2f}%, Test Accuracy: {test_accuracy:.2f}%')\n",
        "\n",
        "print(\"Finished Training\")"
      ],
      "metadata": {
        "colab": {
          "base_uri": "https://localhost:8080/"
        },
        "id": "J7-F9Yc06aha",
        "outputId": "5b0d5b2e-adba-4e79-b28b-0cf703513a3c"
      },
      "execution_count": 62,
      "outputs": [
        {
          "output_type": "stream",
          "name": "stdout",
          "text": [
            "Epoch 1/80, Train Accuracy: 63.93%, Test Accuracy: 68.71%\n",
            "Epoch 2/80, Train Accuracy: 75.04%, Test Accuracy: 76.87%\n",
            "Epoch 3/80, Train Accuracy: 76.18%, Test Accuracy: 76.19%\n",
            "Epoch 4/80, Train Accuracy: 77.55%, Test Accuracy: 76.19%\n",
            "Epoch 5/80, Train Accuracy: 78.16%, Test Accuracy: 78.23%\n",
            "Epoch 6/80, Train Accuracy: 78.31%, Test Accuracy: 78.91%\n",
            "Epoch 7/80, Train Accuracy: 80.29%, Test Accuracy: 78.91%\n",
            "Epoch 8/80, Train Accuracy: 80.82%, Test Accuracy: 79.59%\n",
            "Epoch 9/80, Train Accuracy: 81.35%, Test Accuracy: 79.59%\n",
            "Epoch 10/80, Train Accuracy: 81.51%, Test Accuracy: 80.27%\n",
            "Epoch 11/80, Train Accuracy: 81.05%, Test Accuracy: 80.95%\n",
            "Epoch 12/80, Train Accuracy: 82.12%, Test Accuracy: 80.95%\n",
            "Epoch 13/80, Train Accuracy: 81.74%, Test Accuracy: 81.63%\n",
            "Epoch 14/80, Train Accuracy: 82.42%, Test Accuracy: 80.95%\n",
            "Epoch 15/80, Train Accuracy: 82.50%, Test Accuracy: 81.63%\n",
            "Epoch 16/80, Train Accuracy: 82.19%, Test Accuracy: 82.99%\n",
            "Epoch 17/80, Train Accuracy: 82.42%, Test Accuracy: 82.31%\n",
            "Epoch 18/80, Train Accuracy: 83.03%, Test Accuracy: 82.99%\n",
            "Epoch 19/80, Train Accuracy: 83.87%, Test Accuracy: 82.31%\n",
            "Epoch 20/80, Train Accuracy: 83.18%, Test Accuracy: 82.99%\n",
            "Epoch 21/80, Train Accuracy: 83.41%, Test Accuracy: 82.99%\n",
            "Epoch 22/80, Train Accuracy: 84.02%, Test Accuracy: 82.31%\n",
            "Epoch 23/80, Train Accuracy: 84.17%, Test Accuracy: 82.31%\n",
            "Epoch 24/80, Train Accuracy: 83.56%, Test Accuracy: 82.99%\n",
            "Epoch 25/80, Train Accuracy: 83.79%, Test Accuracy: 82.99%\n",
            "Epoch 26/80, Train Accuracy: 83.79%, Test Accuracy: 82.99%\n",
            "Epoch 27/80, Train Accuracy: 84.17%, Test Accuracy: 79.59%\n",
            "Epoch 28/80, Train Accuracy: 84.25%, Test Accuracy: 83.67%\n",
            "Epoch 29/80, Train Accuracy: 83.94%, Test Accuracy: 82.99%\n",
            "Epoch 30/80, Train Accuracy: 84.09%, Test Accuracy: 82.99%\n",
            "Epoch 31/80, Train Accuracy: 84.47%, Test Accuracy: 82.31%\n",
            "Epoch 32/80, Train Accuracy: 83.64%, Test Accuracy: 82.31%\n",
            "Epoch 33/80, Train Accuracy: 84.32%, Test Accuracy: 82.31%\n",
            "Epoch 34/80, Train Accuracy: 84.02%, Test Accuracy: 82.99%\n",
            "Epoch 35/80, Train Accuracy: 84.93%, Test Accuracy: 82.99%\n",
            "Epoch 36/80, Train Accuracy: 83.71%, Test Accuracy: 82.99%\n",
            "Epoch 37/80, Train Accuracy: 83.94%, Test Accuracy: 82.99%\n",
            "Epoch 38/80, Train Accuracy: 84.70%, Test Accuracy: 82.31%\n",
            "Epoch 39/80, Train Accuracy: 84.32%, Test Accuracy: 82.31%\n",
            "Epoch 40/80, Train Accuracy: 84.17%, Test Accuracy: 82.31%\n",
            "Epoch 41/80, Train Accuracy: 84.25%, Test Accuracy: 82.99%\n",
            "Epoch 42/80, Train Accuracy: 84.70%, Test Accuracy: 82.99%\n",
            "Epoch 43/80, Train Accuracy: 84.86%, Test Accuracy: 82.31%\n",
            "Epoch 44/80, Train Accuracy: 84.70%, Test Accuracy: 82.31%\n",
            "Epoch 45/80, Train Accuracy: 84.09%, Test Accuracy: 82.31%\n",
            "Epoch 46/80, Train Accuracy: 84.40%, Test Accuracy: 82.31%\n",
            "Epoch 47/80, Train Accuracy: 84.70%, Test Accuracy: 82.31%\n",
            "Epoch 48/80, Train Accuracy: 85.01%, Test Accuracy: 82.31%\n",
            "Epoch 49/80, Train Accuracy: 84.63%, Test Accuracy: 82.31%\n",
            "Epoch 50/80, Train Accuracy: 84.78%, Test Accuracy: 82.31%\n",
            "Epoch 51/80, Train Accuracy: 84.47%, Test Accuracy: 81.63%\n",
            "Epoch 52/80, Train Accuracy: 84.47%, Test Accuracy: 82.31%\n",
            "Epoch 53/80, Train Accuracy: 84.86%, Test Accuracy: 82.31%\n",
            "Epoch 54/80, Train Accuracy: 85.01%, Test Accuracy: 82.99%\n",
            "Epoch 55/80, Train Accuracy: 84.63%, Test Accuracy: 81.63%\n",
            "Epoch 56/80, Train Accuracy: 85.08%, Test Accuracy: 82.31%\n",
            "Epoch 57/80, Train Accuracy: 84.70%, Test Accuracy: 82.31%\n",
            "Epoch 58/80, Train Accuracy: 84.93%, Test Accuracy: 82.31%\n",
            "Epoch 59/80, Train Accuracy: 84.78%, Test Accuracy: 82.99%\n",
            "Epoch 60/80, Train Accuracy: 85.16%, Test Accuracy: 82.99%\n",
            "Epoch 61/80, Train Accuracy: 84.93%, Test Accuracy: 81.63%\n",
            "Epoch 62/80, Train Accuracy: 84.93%, Test Accuracy: 82.31%\n",
            "Epoch 63/80, Train Accuracy: 84.40%, Test Accuracy: 82.31%\n",
            "Epoch 64/80, Train Accuracy: 84.86%, Test Accuracy: 82.31%\n",
            "Epoch 65/80, Train Accuracy: 84.70%, Test Accuracy: 82.99%\n",
            "Epoch 66/80, Train Accuracy: 84.93%, Test Accuracy: 82.31%\n",
            "Epoch 67/80, Train Accuracy: 84.63%, Test Accuracy: 82.31%\n",
            "Epoch 68/80, Train Accuracy: 85.01%, Test Accuracy: 82.99%\n",
            "Epoch 69/80, Train Accuracy: 84.70%, Test Accuracy: 82.31%\n",
            "Epoch 70/80, Train Accuracy: 84.63%, Test Accuracy: 82.99%\n",
            "Epoch 71/80, Train Accuracy: 85.08%, Test Accuracy: 81.63%\n",
            "Epoch 72/80, Train Accuracy: 84.78%, Test Accuracy: 82.31%\n",
            "Epoch 73/80, Train Accuracy: 85.31%, Test Accuracy: 81.63%\n",
            "Epoch 74/80, Train Accuracy: 85.24%, Test Accuracy: 81.63%\n",
            "Epoch 75/80, Train Accuracy: 85.31%, Test Accuracy: 84.35%\n",
            "Epoch 76/80, Train Accuracy: 84.78%, Test Accuracy: 82.99%\n",
            "Epoch 77/80, Train Accuracy: 85.08%, Test Accuracy: 82.31%\n",
            "Epoch 78/80, Train Accuracy: 84.63%, Test Accuracy: 82.99%\n",
            "Epoch 79/80, Train Accuracy: 85.08%, Test Accuracy: 82.31%\n",
            "Epoch 80/80, Train Accuracy: 84.47%, Test Accuracy: 83.67%\n",
            "Finished Training\n"
          ]
        }
      ]
    },
    {
      "cell_type": "markdown",
      "source": [
        "### Save the Model"
      ],
      "metadata": {
        "id": "_RIeyinh6bhr"
      }
    },
    {
      "cell_type": "code",
      "source": [
        "torch.save(model.state_dict(), 'weather_predictor.pth')\n",
        "# may use for weather prediction"
      ],
      "metadata": {
        "id": "AB72wRsx6buN"
      },
      "execution_count": 54,
      "outputs": []
    },
    {
      "cell_type": "markdown",
      "source": [
        "### Graph the Result"
      ],
      "metadata": {
        "id": "aC4V94XS6b8e"
      }
    },
    {
      "cell_type": "code",
      "source": [
        "plt.plot(train_accuracy_history, label='Training Accuracy')\n",
        "plt.plot(test_accuracy_history, label = 'Test Accuracy')\n",
        "plt.xlabel('Epoch')\n",
        "plt.ylabel('Accuracy (%)')\n",
        "plt.legend()\n",
        "plt.show()"
      ],
      "metadata": {
        "colab": {
          "base_uri": "https://localhost:8080/",
          "height": 449
        },
        "id": "MGsQqxu0kjV0",
        "outputId": "18ee8d77-eaff-4c42-fb28-782c8dfe3e02"
      },
      "execution_count": 55,
      "outputs": [
        {
          "output_type": "display_data",
          "data": {
            "text/plain": [
              "<Figure size 640x480 with 1 Axes>"
            ],
            "image/png": "[encoded data removed]"
          },
          "metadata": {}
        }
      ]
    },
    {
      "cell_type": "markdown",
      "source": [
        "### Predict Weather on One Day"
      ],
      "metadata": {
        "id": "kQIu1BvPVd6u"
      }
    },
    {
      "cell_type": "code",
      "source": [
        "new_data = pd.DataFrame({\n",
        "  'precipitation': [0.5],  # Example value\n",
        "  'temp_max': [5],      # Example value\n",
        "  'temp_min': [0],       # Example value\n",
        "  'wind': [0]            # Example value\n",
        "})\n",
        "\n",
        "new_data[['precipitation', 'temp_max', 'temp_min', 'wind']] = scaler.transform(new_data[['precipitation', 'temp_max', 'temp_min', 'wind']])\n",
        "\n",
        "prediction_data = torch.tensor(new_data.values, dtype=torch.float32)\n",
        "\n",
        "output = model(prediction_data)\n",
        "_, predicted = torch.max(output.data, 1)\n",
        "\n",
        "weather_categories = list(weather_encoded.columns)\n",
        "print(f'Predicted Weather: {weather_categories[predicted.item()][8:]}')\n",
        "\n",
        "### if we found a suitable dataset that includes more recent weather, we might update result here"
      ],
      "metadata": {
        "colab": {
          "base_uri": "https://localhost:8080/"
        },
        "id": "1VC7ePzcVdZb",
        "outputId": "1ac66437-94ea-4933-d37d-151ec92d4531"
      },
      "execution_count": 64,
      "outputs": [
        {
          "output_type": "stream",
          "name": "stdout",
          "text": [
            "Predicted Weather: rain\n"
          ]
        }
      ]
    }
  ]
}